{
 "cells": [
  {
   "cell_type": "code",
   "id": "2955a2cb-d28c-4d02-a3f0-332114ce7e65",
   "metadata": {
    "id": "2955a2cb-d28c-4d02-a3f0-332114ce7e65",
    "outputId": "07b003f8-2e87-4166-e449-0889e421dbcc",
    "colab": {
     "base_uri": "https://localhost:8080/"
    }
   },
   "source": [
    "import pandas as pd\n",
    "from matplotlib import pyplot\n",
    "from sklearn.linear_model import LogisticRegression\n",
    "from sklearn.preprocessing import LabelEncoder\n",
    "\n",
    "dataset_URL = \"https://raw.githubusercontent.com/CheMBurN695/FinCrime_ML_Model/refs/heads/master/Trnx_Dataset.csv?token=GHSAT0AAAAAACYPUMUJ3BSBWUE7ZSIQEECQZ3IO4GQ\"\n",
    "testing_dataset_URL = \"https://raw.githubusercontent.com/CheMBurN695/FinCrime_ML_Model/refs/heads/master/Testing_Dataset.csv?token=GHSAT0AAAAAACYPUMUITFWKKFIOTAI22AW4Z3INTRA\"\n",
    "training_dataset_URL = \"https://raw.githubusercontent.com/CheMBurN695/FinCrime_ML_Model/refs/heads/master/Training_Dataset.csv?token=GHSAT0AAAAAACYPUMUJBIMGLEC4BVP3JOLMZ3IOOYA\"\n",
    "dataFrame = pd.read_csv(dataset_URL)\n",
    "encodedDataFrame = pd.read_csv(dataset_URL)\n",
    "testing_dataFrame = pd.read_csv(testing_dataset_URL)"
   ],
   "outputs": [],
   "execution_count": null
  },
  {
   "metadata": {},
   "cell_type": "code",
   "source": "sowByCountry = dataFrame.groupby([\"Country\", \"Source of Money\"]).size()\n",
   "id": "232e442a515511fb",
   "outputs": [],
   "execution_count": null
  },
  {
   "metadata": {},
   "cell_type": "code",
   "source": [
    "country_count = dataFrame.groupby([\"Country\"]).size()\n",
    "illegal_trnxs = dataFrame['Source of Money'] == \"Illegal\"\n",
    "illegal_trnx_byCountry = dataFrame[illegal_trnxs].groupby([\"Country\"]).size()\n",
    "not_illegal_trnx_byCountry = country_count - illegal_trnx_byCountry\n",
    "percent_illegal = (illegal_trnx_byCountry / country_count) * 100\n",
    "percent_legal = (not_illegal_trnx_byCountry / country_count) * 100\n",
    "\n",
    "_fig, _axes = pyplot.subplots(figsize=(8,6))\n",
    "_axes.bar(illegal_trnx_byCountry.index, illegal_trnx_byCountry, color='red', label=\"Illegal\")\n",
    "_axes.bar(not_illegal_trnx_byCountry.index, not_illegal_trnx_byCountry, color='green', label=\"Legal\")\n",
    "\n",
    "_axes.set_title(\"Distribution of Illegal Transactions per Country In Dataset\")\n",
    "_axes.set_xlabel(\"Country\")\n",
    "_axes.set_ylabel(\"Transaction Count\")\n",
    "_axes.set_xticks(country_count.index)\n",
    "_axes.set_xticklabels(country_count.index, rotation=45)\n",
    "_axes.legend()\n",
    "pyplot.show()\n"
   ],
   "id": "95b78bb65ef95d07",
   "outputs": [],
   "execution_count": null
  },
  {
   "metadata": {},
   "cell_type": "code",
   "source": "print(dataFrame.isnull().sum())",
   "id": "f03c38c64835eca3",
   "outputs": [],
   "execution_count": null
  },
  {
   "metadata": {},
   "cell_type": "code",
   "source": [
    "\n",
    "label_encoder = LabelEncoder()\n",
    "encodedDataFrame['Country'] = label_encoder.fit_transform(dataFrame['Country'])\n",
    "encodedDataFrame['Destination Country'] = label_encoder.fit_transform(dataFrame['Destination Country'])\n",
    "encodedDataFrame['Transaction Type'] = label_encoder.fit_transform(dataFrame['Transaction Type'])\n",
    "encodedDataFrame['Amount (USD)'] = label_encoder.fit_transform(dataFrame['Amount (USD)'])\n",
    "encodedDataFrame['Person Involved'] = label_encoder.fit_transform(dataFrame['Person Involved'])\n",
    "encodedDataFrame['Industry'] = label_encoder.fit_transform(dataFrame['Industry'])\n",
    "encodedDataFrame['Source of Money'] = label_encoder.fit_transform(dataFrame['Source of Money'])\n",
    "\n",
    "encodedDataFrame['Money Laundering Risk Score'] = label_encoder.fit_transform(dataFrame['Money Laundering Risk Score'])\n",
    "\n",
    "X = encodedDataFrame[['Industry', 'Country', 'Destination Country']]\n",
    "Y = encodedDataFrame['Money Laundering Risk Score']\n"
   ],
   "id": "e03d36eaa29111b5",
   "outputs": [],
   "execution_count": null
  },
  {
   "metadata": {},
   "cell_type": "code",
   "outputs": [],
   "execution_count": null,
   "source": "",
   "id": "3286f698fbac0de8"
  },
  {
   "metadata": {},
   "cell_type": "code",
   "source": [
    "model = LogisticRegression(max_iter=1000)\n",
    "model.fit(X,Y)"
   ],
   "id": "5c91376c5e73a9fa",
   "outputs": [],
   "execution_count": null
  },
  {
   "metadata": {},
   "cell_type": "code",
   "source": [
    "\n",
    "\n"
   ],
   "id": "54c30ab3702fb5a6",
   "outputs": [],
   "execution_count": null
  }
 ],
 "metadata": {
  "kernelspec": {
   "display_name": "Python 3 (ipykernel)",
   "language": "python",
   "name": "python3"
  },
  "language_info": {
   "codemirror_mode": {
    "name": "ipython",
    "version": 3
   },
   "file_extension": ".py",
   "mimetype": "text/x-python",
   "name": "python",
   "nbconvert_exporter": "python",
   "pygments_lexer": "ipython3",
   "version": "3.12.7"
  },
  "colab": {
   "provenance": []
  }
 },
 "nbformat": 4,
 "nbformat_minor": 5
}
