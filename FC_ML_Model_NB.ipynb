{
 "cells": [
  {
   "cell_type": "code",
   "id": "2955a2cb-d28c-4d02-a3f0-332114ce7e65",
   "metadata": {
    "ExecuteTime": {
     "end_time": "2024-12-22T16:54:33.329058Z",
     "start_time": "2024-12-22T16:54:33.325521Z"
    }
   },
   "source": "print(\"hello world\")",
   "outputs": [
    {
     "name": "stdout",
     "output_type": "stream",
     "text": [
      "hello world\n"
     ]
    }
   ],
   "execution_count": 2
  },
  {
   "cell_type": "code",
   "id": "f1db5517-740f-4364-bf02-a7f870270c33",
   "metadata": {
    "ExecuteTime": {
     "end_time": "2024-12-22T16:54:33.412896Z",
     "start_time": "2024-12-22T16:54:33.410530Z"
    }
   },
   "source": "print(\"why git, why??\")",
   "outputs": [
    {
     "name": "stdout",
     "output_type": "stream",
     "text": [
      "why git, why??\n"
     ]
    }
   ],
   "execution_count": 3
  }
 ],
 "metadata": {
  "kernelspec": {
   "display_name": "Python 3 (ipykernel)",
   "language": "python",
   "name": "python3"
  },
  "language_info": {
   "codemirror_mode": {
    "name": "ipython",
    "version": 3
   },
   "file_extension": ".py",
   "mimetype": "text/x-python",
   "name": "python",
   "nbconvert_exporter": "python",
   "pygments_lexer": "ipython3",
   "version": "3.12.7"
  }
 },
 "nbformat": 4,
 "nbformat_minor": 5
}
