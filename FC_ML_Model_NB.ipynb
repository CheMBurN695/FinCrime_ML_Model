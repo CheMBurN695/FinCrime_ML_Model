{
 "cells": [
  {
   "cell_type": "code",
   "id": "2955a2cb-d28c-4d02-a3f0-332114ce7e65",
   "metadata": {
    "ExecuteTime": {
     "end_time": "2024-12-22T16:52:35.340041Z",
     "start_time": "2024-12-22T16:52:35.336634Z"
    }
   },
   "source": "print(\"hello world\")",
   "outputs": [
    {
     "name": "stdout",
     "output_type": "stream",
     "text": [
      "hello world\n"
     ]
    }
   ],
   "execution_count": 1
  },
  {
   "cell_type": "code",
   "id": "f1db5517-740f-4364-bf02-a7f870270c33",
   "metadata": {
    "ExecuteTime": {
     "end_time": "2024-12-22T16:52:35.346060Z",
     "start_time": "2024-12-22T16:52:35.343473Z"
    }
   },
   "source": [],
   "outputs": [],
   "execution_count": null
  }
 ],
 "metadata": {
  "kernelspec": {
   "display_name": "Python 3 (ipykernel)",
   "language": "python",
   "name": "python3"
  },
  "language_info": {
   "codemirror_mode": {
    "name": "ipython",
    "version": 3
   },
   "file_extension": ".py",
   "mimetype": "text/x-python",
   "name": "python",
   "nbconvert_exporter": "python",
   "pygments_lexer": "ipython3",
   "version": "3.12.7"
  }
 },
 "nbformat": 4,
 "nbformat_minor": 5
}
