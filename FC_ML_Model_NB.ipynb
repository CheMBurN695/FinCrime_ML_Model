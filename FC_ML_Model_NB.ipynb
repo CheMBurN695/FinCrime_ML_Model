{
 "cells": [
  {
   "cell_type": "code",
   "id": "2955a2cb-d28c-4d02-a3f0-332114ce7e65",
   "metadata": {
    "id": "2955a2cb-d28c-4d02-a3f0-332114ce7e65",
    "outputId": "07b003f8-2e87-4166-e449-0889e421dbcc",
    "colab": {
     "base_uri": "https://localhost:8080/"
    },
    "ExecuteTime": {
     "end_time": "2024-12-22T17:11:20.734568Z",
     "start_time": "2024-12-22T17:11:20.715563Z"
    }
   },
   "source": [
    "import pandas as pd\n",
    "from pandas import DataFrame\n",
    "\n",
    "dataFrame = pd.read_csv(\"Trnx_Dataset.csv\")"
   ],
   "outputs": [],
   "execution_count": 6
  },
  {
   "metadata": {
    "ExecuteTime": {
     "end_time": "2024-12-22T17:11:20.743363Z",
     "start_time": "2024-12-22T17:11:20.737573Z"
    }
   },
   "cell_type": "code",
   "source": "print(dataFrame)",
   "id": "232e442a515511fb",
   "outputs": [
    {
     "name": "stdout",
     "output_type": "stream",
     "text": [
      "     Transaction ID       Country  Amount (USD)   Transaction Type  \\\n",
      "0      TX0000000001        Brazil  3.267530e+06  Offshore Transfer   \n",
      "1      TX0000000002         China  4.965767e+06    Stocks Transfer   \n",
      "2      TX0000000003            UK  9.416750e+04    Stocks Transfer   \n",
      "3      TX0000000004           UAE  3.864201e+05    Cash Withdrawal   \n",
      "4      TX0000000005  South Africa  6.433784e+05     Cryptocurrency   \n",
      "...             ...           ...           ...                ...   \n",
      "9995   TX0000009996     Singapore  2.209229e+06  Offshore Transfer   \n",
      "9996   TX0000009997           UAE  4.800338e+06  Property Purchase   \n",
      "9997   TX0000009998            UK  4.891953e+05    Stocks Transfer   \n",
      "9998   TX0000009999        Brazil  2.233581e+06  Offshore Transfer   \n",
      "9999   TX0000010000   Switzerland  3.846778e+05    Stocks Transfer   \n",
      "\n",
      "      Date of Transaction Person Involved      Industry Destination Country  \\\n",
      "0     2013-01-01 00:00:00     Person_1101  Construction                 USA   \n",
      "1     2013-01-01 01:00:00     Person_7484  Luxury Goods        South Africa   \n",
      "2     2013-01-01 02:00:00     Person_3655  Construction         Switzerland   \n",
      "3     2013-01-01 03:00:00     Person_3226     Oil & Gas              Russia   \n",
      "4     2013-01-01 04:00:00     Person_7975   Real Estate                 USA   \n",
      "...                   ...             ...           ...                 ...   \n",
      "9995  2014-02-21 11:00:00     Person_6896   Real Estate              Brazil   \n",
      "9996  2014-02-21 12:00:00     Person_6348  Luxury Goods              Russia   \n",
      "9997  2014-02-21 13:00:00     Person_4171     Oil & Gas              Russia   \n",
      "9998  2014-02-21 14:00:00     Person_2799   Real Estate              Russia   \n",
      "9999  2014-02-21 15:00:00     Person_3267    Arms Trade               China   \n",
      "\n",
      "      Reported by Authority Source of Money  Money Laundering Risk Score  \\\n",
      "0                      True         Illegal                            6   \n",
      "1                     False         Illegal                            9   \n",
      "2                      True         Illegal                            1   \n",
      "3                     False         Illegal                            7   \n",
      "4                      True         Illegal                            1   \n",
      "...                     ...             ...                          ...   \n",
      "9995                  False         Illegal                            4   \n",
      "9996                  False           Legal                           10   \n",
      "9997                  False         Illegal                            5   \n",
      "9998                   True         Illegal                           10   \n",
      "9999                   True           Legal                            5   \n",
      "\n",
      "      Shell Companies Involved Financial Institution Tax Haven Country  \n",
      "0                            1               Bank_40         Singapore  \n",
      "1                            0              Bank_461           Bahamas  \n",
      "2                            3              Bank_387       Switzerland  \n",
      "3                            2              Bank_353            Panama  \n",
      "4                            9               Bank_57        Luxembourg  \n",
      "...                        ...                   ...               ...  \n",
      "9995                         4              Bank_258        Luxembourg  \n",
      "9996                         2              Bank_449        Luxembourg  \n",
      "9997                         0              Bank_156    Cayman Islands  \n",
      "9998                         5               Bank_12         Singapore  \n",
      "9999                         4               Bank_22            Panama  \n",
      "\n",
      "[10000 rows x 14 columns]\n"
     ]
    }
   ],
   "execution_count": 7
  }
 ],
 "metadata": {
  "kernelspec": {
   "display_name": "Python 3 (ipykernel)",
   "language": "python",
   "name": "python3"
  },
  "language_info": {
   "codemirror_mode": {
    "name": "ipython",
    "version": 3
   },
   "file_extension": ".py",
   "mimetype": "text/x-python",
   "name": "python",
   "nbconvert_exporter": "python",
   "pygments_lexer": "ipython3",
   "version": "3.12.7"
  },
  "colab": {
   "provenance": []
  }
 },
 "nbformat": 4,
 "nbformat_minor": 5
}
