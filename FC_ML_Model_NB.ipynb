{
  "cells": [
    {
      "cell_type": "code",
      "id": "2955a2cb-d28c-4d02-a3f0-332114ce7e65",
      "metadata": {
        "ExecuteTime": {
          "end_time": "2024-12-22T16:54:33.329058Z",
          "start_time": "2024-12-22T16:54:33.325521Z"
        },
        "id": "2955a2cb-d28c-4d02-a3f0-332114ce7e65",
        "outputId": "07b003f8-2e87-4166-e449-0889e421dbcc",
        "colab": {
          "base_uri": "https://localhost:8080/"
        }
      },
      "source": [
        "teststr = \"Collab pull\"\n",
        "print(teststr)"
      ],
      "outputs": [
        {
          "output_type": "stream",
          "name": "stdout",
          "text": [
            "Collab pull\n"
          ]
        }
      ],
      "execution_count": 3
    },
    {
      "cell_type": "code",
      "id": "f1db5517-740f-4364-bf02-a7f870270c33",
      "metadata": {
        "ExecuteTime": {
          "end_time": "2024-12-22T16:54:33.412896Z",
          "start_time": "2024-12-22T16:54:33.410530Z"
        },
        "id": "f1db5517-740f-4364-bf02-a7f870270c33",
        "outputId": "04f54a4a-48a4-4e9f-bc7a-b04bfca56c8e",
        "colab": {
          "base_uri": "https://localhost:8080/"
        }
      },
      "source": [],
      "outputs": [
        {
          "output_type": "stream",
          "name": "stdout",
          "text": [
            "why git, why??\n"
          ]
        }
      ],
      "execution_count": 1
    }
  ],
  "metadata": {
    "kernelspec": {
      "display_name": "Python 3 (ipykernel)",
      "language": "python",
      "name": "python3"
    },
    "language_info": {
      "codemirror_mode": {
        "name": "ipython",
        "version": 3
      },
      "file_extension": ".py",
      "mimetype": "text/x-python",
      "name": "python",
      "nbconvert_exporter": "python",
      "pygments_lexer": "ipython3",
      "version": "3.12.7"
    },
    "colab": {
      "provenance": []
    }
  },
  "nbformat": 4,
  "nbformat_minor": 5
}